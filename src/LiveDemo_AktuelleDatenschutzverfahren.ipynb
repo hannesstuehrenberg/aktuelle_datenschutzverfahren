{
  "nbformat": 4,
  "nbformat_minor": 0,
  "metadata": {
    "colab": {
      "provenance": []
    },
    "kernelspec": {
      "name": "python3",
      "display_name": "Python 3"
    },
    "language_info": {
      "name": "python"
    }
  },
  "cells": [
    {
      "cell_type": "markdown",
      "source": [
        "# **Full Demo**"
      ],
      "metadata": {
        "id": "SSfRcavNPdXg"
      }
    },
    {
      "cell_type": "code",
      "source": [
        "import numpy as np\n",
        "import random\n",
        "import hashlib\n",
        "import matplotlib.pyplot as plt"
      ],
      "metadata": {
        "id": "yzwDgnUX4mz3"
      },
      "execution_count": 1,
      "outputs": []
    },
    {
      "cell_type": "markdown",
      "source": [
        "Simulate user sampling n objects"
      ],
      "metadata": {
        "id": "HvHWmYWrPyR2"
      }
    },
    {
      "cell_type": "code",
      "source": [
        "def simulate_user_behavior(n, gamma, delta, preferred_pool):\n",
        "    samples = []\n",
        "    for _ in range(n):\n",
        "        if random.random() < gamma:\n",
        "            # Pick from a pool (relevant interest)\n",
        "            if random.random() < delta:\n",
        "                # Pick from preferred pool\n",
        "                samples.append(random.choice(pools[preferred_pool]))\n",
        "            else:\n",
        "                # Pick from another non-neutral pool\n",
        "                other = [k for k in [\"A\", \"B\"] if k != preferred_pool][0]\n",
        "                samples.append(random.choice(pools[other]))\n",
        "        else:\n",
        "            # Pick from neutral pool\n",
        "            samples.append(random.choice(neutral_pool))\n",
        "    return samples"
      ],
      "metadata": {
        "id": "N1qfx25_VF1Q"
      },
      "execution_count": 2,
      "outputs": []
    },
    {
      "cell_type": "code",
      "source": [
        "#to do: should also be set dynamically\n",
        "\n",
        "#defining universe and pools - adversary choice\n",
        "pool_A = [\"👍🏻\", \"👋🏻\"]\n",
        "pool_B = [\"👍🏿\", \"👋🏿\"]\n",
        "pool_C = [\"👍🏽\", \"👋🏽\"]\n",
        "neutral_pool = [\"😎\", \"😂\"]\n",
        "\n",
        "all_emojis = pool_A + pool_B + pool_C + neutral_pool\n",
        "pools = {\"A\": pool_A, \"B\": pool_B, \"C\": pool_C, \"N\": neutral_pool}\n",
        "\n",
        "emoji_pool = {e: \"A\" for e in pool_A}\n",
        "emoji_pool.update({e: \"B\" for e in pool_B})\n",
        "emoji_pool.update({e: \"C\" for e in pool_C})\n",
        "emoji_pool.update({e: \"N\" for e in neutral_pool})\n",
        "\n",
        "print(\"Emoji pool:\")\n",
        "print(emoji_pool)\n",
        "\n",
        "#settings for user sampling - user behaviour\n",
        "n = 7\n",
        "gamma = 0.6\n",
        "delta = 0.8\n",
        "preferred_pool = \"A\"\n",
        "epsilon = 4\n",
        "m = 16\n",
        "\n",
        "true_emojis = simulate_user_behavior(n, gamma, delta, preferred_pool)\n",
        "\n",
        "print(\"Sampled emojis:\")\n",
        "print(true_emojis)"
      ],
      "metadata": {
        "colab": {
          "base_uri": "https://localhost:8080/"
        },
        "id": "afta1LFFMjFs",
        "outputId": "0c7e5818-7f52-4af9-850d-0e4e9b080317"
      },
      "execution_count": 3,
      "outputs": [
        {
          "output_type": "stream",
          "name": "stdout",
          "text": [
            "Emoji pool:\n",
            "{'👍🏻': 'A', '👋🏻': 'A', '👍🏿': 'B', '👋🏿': 'B', '👍🏽': 'C', '👋🏽': 'C', '😎': 'N', '😂': 'N'}\n",
            "Sampled emojis:\n",
            "['👋🏻', '👍🏻', '😎', '👋🏻', '👋🏻', '😎', '👍🏻']\n"
          ]
        }
      ]
    },
    {
      "cell_type": "markdown",
      "source": [
        "Apply (dummy) CMS to n objects"
      ],
      "metadata": {
        "id": "6em2hbJdVgv4"
      }
    },
    {
      "cell_type": "code",
      "source": [
        "def hash_emoji(emoji, m):\n",
        "    # Simple stable hash function\n",
        "    return int(hashlib.md5(emoji.encode()).hexdigest(), 16) % m"
      ],
      "metadata": {
        "id": "2gs_mrK8P7pV"
      },
      "execution_count": 4,
      "outputs": []
    },
    {
      "cell_type": "code",
      "source": [
        "def one_hot_vector(emoji, m):\n",
        "    vec = np.zeros(m, dtype=int)\n",
        "    idx = hash_emoji(emoji, m)\n",
        "    vec[idx] = 1\n",
        "    return vec"
      ],
      "metadata": {
        "id": "mWSjOepUQwxL"
      },
      "execution_count": 5,
      "outputs": []
    },
    {
      "cell_type": "code",
      "source": [
        "def flip_bits(vec, epsilon):\n",
        "    xi = 1 / (1 + np.exp(epsilon / 2))\n",
        "    flip_mask = np.random.rand(len(vec)) < xi\n",
        "    return np.bitwise_xor(vec, flip_mask.astype(int))"
      ],
      "metadata": {
        "id": "oATmHvb7RYy9"
      },
      "execution_count": 6,
      "outputs": []
    },
    {
      "cell_type": "code",
      "source": [
        "print(\"one-hot-vector is 1 at position:\")\n",
        "hashed_emojis = [hash_emoji(e, m) for e in true_emojis]\n",
        "print(hashed_emojis)\n",
        "\n",
        "print(\"one-hot-vector per n:\")\n",
        "hashed_vector_emojis = [one_hot_vector(e, m) for e in true_emojis]\n",
        "print(hashed_vector_emojis)\n",
        "\n",
        "print(\"flipped vector:\")\n",
        "flipped_vector_emojis = [flip_bits(e, epsilon) for e in hashed_vector_emojis]\n",
        "print(flipped_vector_emojis)\n",
        "\n",
        "print(\"distance between one-hot-vector and flipped vector\")\n",
        "distances = [np.sum(h != f) for h, f in zip(hashed_vector_emojis, flipped_vector_emojis)]\n",
        "distances = [int(x) for x in distances]\n",
        "print(distances)"
      ],
      "metadata": {
        "colab": {
          "base_uri": "https://localhost:8080/"
        },
        "id": "xegWRsyqUWqB",
        "outputId": "fd9215ef-aead-4d35-e98f-b5dbc404c81e"
      },
      "execution_count": 7,
      "outputs": [
        {
          "output_type": "stream",
          "name": "stdout",
          "text": [
            "one-hot-vector is 1 at position:\n",
            "[11, 1, 3, 11, 11, 3, 1]\n",
            "one-hot-vector per n:\n",
            "[array([0, 0, 0, 0, 0, 0, 0, 0, 0, 0, 0, 1, 0, 0, 0, 0]), array([0, 1, 0, 0, 0, 0, 0, 0, 0, 0, 0, 0, 0, 0, 0, 0]), array([0, 0, 0, 1, 0, 0, 0, 0, 0, 0, 0, 0, 0, 0, 0, 0]), array([0, 0, 0, 0, 0, 0, 0, 0, 0, 0, 0, 1, 0, 0, 0, 0]), array([0, 0, 0, 0, 0, 0, 0, 0, 0, 0, 0, 1, 0, 0, 0, 0]), array([0, 0, 0, 1, 0, 0, 0, 0, 0, 0, 0, 0, 0, 0, 0, 0]), array([0, 1, 0, 0, 0, 0, 0, 0, 0, 0, 0, 0, 0, 0, 0, 0])]\n",
            "flipped vector:\n",
            "[array([0, 0, 0, 0, 0, 0, 1, 0, 0, 0, 1, 1, 1, 0, 0, 0]), array([0, 1, 0, 0, 1, 0, 0, 0, 0, 0, 0, 0, 0, 0, 0, 1]), array([0, 0, 0, 1, 0, 0, 0, 0, 1, 0, 0, 0, 1, 0, 0, 0]), array([0, 0, 0, 0, 0, 0, 0, 0, 0, 0, 0, 1, 0, 0, 1, 0]), array([0, 1, 0, 0, 0, 1, 0, 1, 0, 0, 1, 1, 0, 0, 0, 0]), array([0, 0, 0, 1, 1, 0, 0, 0, 1, 1, 0, 0, 0, 0, 0, 0]), array([1, 1, 0, 0, 0, 1, 0, 0, 0, 1, 1, 1, 1, 0, 0, 0])]\n",
            "distance between one-hot-vector and flipped vector\n",
            "[3, 2, 2, 1, 4, 3, 6]\n"
          ]
        }
      ]
    },
    {
      "cell_type": "markdown",
      "source": [
        "Attack"
      ],
      "metadata": {
        "id": "IYufN4IpXmHT"
      }
    },
    {
      "cell_type": "code",
      "source": [
        "def pr_observation_given_z(x_t, z_vec, epsilon):\n",
        "    xi = 1 / (1 + np.exp(epsilon / 2))\n",
        "    d = np.sum(x_t != z_vec)\n",
        "    return (xi ** d) * ((1 - xi) ** (m - d))"
      ],
      "metadata": {
        "id": "zUPLIm7F-WG4"
      },
      "execution_count": 8,
      "outputs": []
    },
    {
      "cell_type": "code",
      "source": [
        "for j, x_t in enumerate(hashed_vector_emojis):\n",
        "    for i, z_vec in enumerate(flipped_vector_emojis):\n",
        "        p = pr_observation_given_z(x_t, z_vec, epsilon)\n",
        "        print(f\"Pr(x_t[{j}] | z_vec[{i}]) = {p:.5f}\")\n"
      ],
      "metadata": {
        "colab": {
          "base_uri": "https://localhost:8080/"
        },
        "id": "RbdbYIfdXadT",
        "outputId": "e540e641-a18b-4f93-b780-3063b9a9eacc"
      },
      "execution_count": 9,
      "outputs": [
        {
          "output_type": "stream",
          "name": "stdout",
          "text": [
            "Pr(x_t[0] | z_vec[0]) = 0.00033\n",
            "Pr(x_t[0] | z_vec[1]) = 0.00004\n",
            "Pr(x_t[0] | z_vec[2]) = 0.00004\n",
            "Pr(x_t[0] | z_vec[3]) = 0.01776\n",
            "Pr(x_t[0] | z_vec[4]) = 0.00004\n",
            "Pr(x_t[0] | z_vec[5]) = 0.00001\n",
            "Pr(x_t[0] | z_vec[6]) = 0.00000\n",
            "Pr(x_t[1] | z_vec[0]) = 0.00001\n",
            "Pr(x_t[1] | z_vec[1]) = 0.00240\n",
            "Pr(x_t[1] | z_vec[2]) = 0.00004\n",
            "Pr(x_t[1] | z_vec[3]) = 0.00033\n",
            "Pr(x_t[1] | z_vec[4]) = 0.00004\n",
            "Pr(x_t[1] | z_vec[5]) = 0.00001\n",
            "Pr(x_t[1] | z_vec[6]) = 0.00000\n",
            "Pr(x_t[2] | z_vec[0]) = 0.00001\n",
            "Pr(x_t[2] | z_vec[1]) = 0.00004\n",
            "Pr(x_t[2] | z_vec[2]) = 0.00240\n",
            "Pr(x_t[2] | z_vec[3]) = 0.00033\n",
            "Pr(x_t[2] | z_vec[4]) = 0.00000\n",
            "Pr(x_t[2] | z_vec[5]) = 0.00033\n",
            "Pr(x_t[2] | z_vec[6]) = 0.00000\n",
            "Pr(x_t[3] | z_vec[0]) = 0.00033\n",
            "Pr(x_t[3] | z_vec[1]) = 0.00004\n",
            "Pr(x_t[3] | z_vec[2]) = 0.00004\n",
            "Pr(x_t[3] | z_vec[3]) = 0.01776\n",
            "Pr(x_t[3] | z_vec[4]) = 0.00004\n",
            "Pr(x_t[3] | z_vec[5]) = 0.00001\n",
            "Pr(x_t[3] | z_vec[6]) = 0.00000\n",
            "Pr(x_t[4] | z_vec[0]) = 0.00033\n",
            "Pr(x_t[4] | z_vec[1]) = 0.00004\n",
            "Pr(x_t[4] | z_vec[2]) = 0.00004\n",
            "Pr(x_t[4] | z_vec[3]) = 0.01776\n",
            "Pr(x_t[4] | z_vec[4]) = 0.00004\n",
            "Pr(x_t[4] | z_vec[5]) = 0.00001\n",
            "Pr(x_t[4] | z_vec[6]) = 0.00000\n",
            "Pr(x_t[5] | z_vec[0]) = 0.00001\n",
            "Pr(x_t[5] | z_vec[1]) = 0.00004\n",
            "Pr(x_t[5] | z_vec[2]) = 0.00240\n",
            "Pr(x_t[5] | z_vec[3]) = 0.00033\n",
            "Pr(x_t[5] | z_vec[4]) = 0.00000\n",
            "Pr(x_t[5] | z_vec[5]) = 0.00033\n",
            "Pr(x_t[5] | z_vec[6]) = 0.00000\n",
            "Pr(x_t[6] | z_vec[0]) = 0.00001\n",
            "Pr(x_t[6] | z_vec[1]) = 0.00240\n",
            "Pr(x_t[6] | z_vec[2]) = 0.00004\n",
            "Pr(x_t[6] | z_vec[3]) = 0.00033\n",
            "Pr(x_t[6] | z_vec[4]) = 0.00004\n",
            "Pr(x_t[6] | z_vec[5]) = 0.00001\n",
            "Pr(x_t[6] | z_vec[6]) = 0.00000\n"
          ]
        }
      ]
    },
    {
      "cell_type": "code",
      "source": [
        "def phi_bar_eq2(x, preferred_pool, gamma, delta, p_hat, pools, emoji_pool):\n",
        "    k = len([p for p in pools.keys() if p != 'N'])\n",
        "    pool_x = emoji_pool[x]\n",
        "\n",
        "    if pool_x == preferred_pool:\n",
        "        return gamma * delta * p_hat[x] / sum(p_hat[z] for z in pools[preferred_pool])\n",
        "    elif pool_x in pools and pool_x != 'N':\n",
        "        return (gamma * (1 - delta) / (k - 1)) * p_hat[x] / sum(p_hat[z] for z in pools[pool_x])\n",
        "    else:\n",
        "        return (1 - gamma) * p_hat[x] / sum(p_hat[z] for z in pools['N'])"
      ],
      "metadata": {
        "id": "uaJo8QNH55iF"
      },
      "execution_count": 10,
      "outputs": []
    },
    {
      "cell_type": "code",
      "source": [
        "def infer_pool(observations, m=16, epsilon=4, gamma_grid=10, delta_grid=10, p_hat=None, pools=None, emoji_pool=None):\n",
        "\n",
        "    all_pool_labels = [p for p in pools.keys() if p != 'N']\n",
        "    neutral_label = 'N'\n",
        "    k = len(all_pool_labels)\n",
        "\n",
        "    if p_hat is None:\n",
        "        all_emojis = sum(pools.values(), [])\n",
        "        p_hat = {e: 1 / len(all_emojis) for e in all_emojis}\n",
        "\n",
        "    all_emojis = sum(pools.values(), [])\n",
        "    pool_scores = {}\n",
        "\n",
        "    #integral is grid based\n",
        "    gammas = np.linspace(0, 1, gamma_grid)\n",
        "    deltas = np.linspace(1 / k, 1, delta_grid)\n",
        "\n",
        "    for pool_id in all_pool_labels:\n",
        "        score = 0\n",
        "        for gamma in gammas:\n",
        "            for delta in deltas:\n",
        "                total_likelihood = 1\n",
        "                for x_t in observations:\n",
        "                    inner = 0\n",
        "                    for z in all_emojis:\n",
        "                        z_vec = one_hot_vector(z, m)\n",
        "                        likelihood = pr_observation_given_z(x_t, z_vec, epsilon)\n",
        "                        phi = phi_bar_eq2(z, pool_id, gamma, delta, p_hat, pools, emoji_pool)\n",
        "                        inner += likelihood * phi\n",
        "                    total_likelihood *= inner\n",
        "                score += total_likelihood\n",
        "        pool_scores[pool_id] = score\n",
        "\n",
        "    total = sum(pool_scores.values())\n",
        "    confidences = {k: v / total for k, v in pool_scores.items()}\n",
        "    return confidences\n"
      ],
      "metadata": {
        "id": "mRHKABVo8RBG"
      },
      "execution_count": 11,
      "outputs": []
    },
    {
      "cell_type": "code",
      "source": [
        "obfuscated_vectors = flipped_vector_emojis\n",
        "conf = infer_pool(obfuscated_vectors, m=16, epsilon=4,\n",
        "                  pools=pools, emoji_pool=emoji_pool)\n",
        "print(conf)"
      ],
      "metadata": {
        "colab": {
          "base_uri": "https://localhost:8080/"
        },
        "id": "Zub5HNmn-2kJ",
        "outputId": "986ca8cf-0e4f-4ca2-8ad2-2cdb865ee38f"
      },
      "execution_count": 12,
      "outputs": [
        {
          "output_type": "stream",
          "name": "stdout",
          "text": [
            "{'A': np.float64(0.653268627656341), 'B': np.float64(0.1434327829855271), 'C': np.float64(0.20329858935813194)}\n"
          ]
        }
      ]
    },
    {
      "cell_type": "markdown",
      "source": [
        "**Quick simulation**"
      ],
      "metadata": {
        "id": "M5r1pqECKj3p"
      }
    },
    {
      "cell_type": "code",
      "source": [
        "#settings for user sampling - user behaviour\n",
        "n = 7\n",
        "gamma = 0.5\n",
        "delta = 0.5\n",
        "preferred_pool = \"A\"\n",
        "epsilon = 4\n",
        "m = 16\n",
        "\n",
        "true_emojis = simulate_user_behavior(n, gamma, delta, preferred_pool)\n",
        "\n",
        "print(\"Sampled emojis:\")\n",
        "print(true_emojis)\n",
        "\n",
        "print(\"one-hot-vector is 1 at position:\")\n",
        "hashed_emojis = [hash_emoji(e, m) for e in true_emojis]\n",
        "print(hashed_emojis)\n",
        "\n",
        "print(\"one-hot-vector per n:\")\n",
        "hashed_vector_emojis = [one_hot_vector(e, m) for e in true_emojis]\n",
        "print(hashed_vector_emojis)\n",
        "\n",
        "print(\"flipped vector:\")\n",
        "flipped_vector_emojis = [flip_bits(e, epsilon) for e in hashed_vector_emojis]\n",
        "print(flipped_vector_emojis)\n",
        "\n",
        "print(\"distance between one-hot-vector and flipped vector\")\n",
        "distances = [np.sum(h != f) for h, f in zip(hashed_vector_emojis, flipped_vector_emojis)]\n",
        "distances = [int(x) for x in distances]\n",
        "print(distances)"
      ],
      "metadata": {
        "colab": {
          "base_uri": "https://localhost:8080/"
        },
        "id": "ibe6g-HTF4eZ",
        "outputId": "86d28a80-d5f1-47ec-d675-bf4793b7f452"
      },
      "execution_count": 13,
      "outputs": [
        {
          "output_type": "stream",
          "name": "stdout",
          "text": [
            "Sampled emojis:\n",
            "['😂', '👍🏿', '👍🏻', '😎', '😂', '😎', '👋🏿']\n",
            "one-hot-vector is 1 at position:\n",
            "[15, 14, 1, 3, 15, 3, 1]\n",
            "one-hot-vector per n:\n",
            "[array([0, 0, 0, 0, 0, 0, 0, 0, 0, 0, 0, 0, 0, 0, 0, 1]), array([0, 0, 0, 0, 0, 0, 0, 0, 0, 0, 0, 0, 0, 0, 1, 0]), array([0, 1, 0, 0, 0, 0, 0, 0, 0, 0, 0, 0, 0, 0, 0, 0]), array([0, 0, 0, 1, 0, 0, 0, 0, 0, 0, 0, 0, 0, 0, 0, 0]), array([0, 0, 0, 0, 0, 0, 0, 0, 0, 0, 0, 0, 0, 0, 0, 1]), array([0, 0, 0, 1, 0, 0, 0, 0, 0, 0, 0, 0, 0, 0, 0, 0]), array([0, 1, 0, 0, 0, 0, 0, 0, 0, 0, 0, 0, 0, 0, 0, 0])]\n",
            "flipped vector:\n",
            "[array([0, 0, 0, 0, 0, 0, 0, 0, 0, 0, 0, 0, 0, 0, 0, 1]), array([0, 0, 0, 0, 0, 0, 0, 0, 0, 0, 0, 0, 0, 0, 1, 0]), array([0, 1, 0, 0, 0, 0, 1, 0, 0, 0, 0, 0, 0, 0, 0, 0]), array([0, 0, 0, 1, 0, 0, 0, 1, 0, 0, 0, 0, 0, 0, 0, 0]), array([0, 0, 0, 0, 0, 0, 0, 0, 0, 0, 0, 0, 0, 1, 0, 1]), array([0, 0, 1, 0, 1, 0, 0, 0, 0, 0, 0, 0, 0, 0, 0, 0]), array([0, 1, 0, 0, 0, 1, 1, 0, 0, 0, 0, 0, 0, 0, 0, 1])]\n",
            "distance between one-hot-vector and flipped vector\n",
            "[0, 0, 1, 1, 1, 3, 3]\n"
          ]
        }
      ]
    },
    {
      "cell_type": "code",
      "source": [
        "true_pool = preferred_pool\n",
        "obfuscated_vectors = flipped_vector_emojis\n",
        "confidences = infer_pool(obfuscated_vectors, m=m, epsilon=epsilon,\n",
        "                         pools=pools, emoji_pool=emoji_pool)\n",
        "\n",
        "print(\"📊 Pool confidences:\", confidences)\n",
        "\n",
        "guessed_pool = max(confidences, key=confidences.get)\n",
        "\n",
        "if guessed_pool == true_pool:\n",
        "    print(f\"✅ ADV WINS: Guessed pool = {guessed_pool}, True pool = {true_pool}\")\n",
        "else:\n",
        "    print(f\"❌ ADV LOSES: Guessed pool = {guessed_pool}, True pool = {true_pool}\")\n"
      ],
      "metadata": {
        "colab": {
          "base_uri": "https://localhost:8080/"
        },
        "id": "SIR7P2p9JdQS",
        "outputId": "61067647-2101-484f-d596-fd5c2a0b43fd"
      },
      "execution_count": 14,
      "outputs": [
        {
          "output_type": "stream",
          "name": "stdout",
          "text": [
            "📊 Pool confidences: {'A': np.float64(0.24065135004663313), 'B': np.float64(0.5557648152858883), 'C': np.float64(0.20358383466747856)}\n",
            "❌ ADV LOSES: Guessed pool = B, True pool = A\n"
          ]
        }
      ]
    },
    {
      "cell_type": "code",
      "source": [
        "def apply_cms(emoji, m=16, epsilon=4, d=2):\n",
        "    xi = 1 / (1 + np.exp(epsilon / 2))\n",
        "    vec = multi_hot_vector(emoji, m, d)\n",
        "    flip = np.random.rand(m) < xi\n",
        "    vec = np.abs(vec - flip.astype(int))\n",
        "    return vec.astype(int)"
      ],
      "metadata": {
        "id": "DymtTVqFN9JP"
      },
      "execution_count": 15,
      "outputs": []
    },
    {
      "cell_type": "code",
      "source": [
        "import numpy as np\n",
        "import random\n",
        "\n",
        "#settings for user sampling - user behaviour\n",
        "gamma = 0.1\n",
        "delta = 0.1\n",
        "preferred_pool = \"A\"\n",
        "\n",
        "# Configuration\n",
        "N_USERS = 100\n",
        "n = 7  # number of emojis per user\n",
        "m = 16  # CMS vector length\n",
        "epsilon = 4\n",
        "d = 2  # number of hash functions\n",
        "\n",
        "# Record wins\n",
        "wins = 0\n",
        "\n",
        "# Simulate over N users\n",
        "for user_id in range(N_USERS):\n",
        "\n",
        "    # Draw random gamma ∈ [0, 1], delta ∈ [1/k, 1]\n",
        "    k = len([p for p in pools.keys() if p != 'N'])\n",
        "    #gamma = np.random.uniform(0, 1)\n",
        "    #delta = np.random.uniform(1/k, 1)\n",
        "    gamma = gamma\n",
        "    delta = delta\n",
        "\n",
        "    # Pick true pool randomly\n",
        "    true_pool = random.choice([p for p in pools if p != 'N'])\n",
        "\n",
        "    true_emojis = simulate_user_behavior(n, gamma, delta, true_pool)\n",
        "\n",
        "    # Obfuscate\n",
        "    hashed_vector_emojis = [one_hot_vector(e, m) for e in true_emojis]\n",
        "    obfuscated_vectors = [flip_bits(e, epsilon) for e in hashed_vector_emojis]\n",
        "    #obfuscated_vectors = [apply_cms(e, m=m, epsilon=epsilon, d=d) for e in true_emojis]\n",
        "\n",
        "    # Infer\n",
        "    confidences = infer_pool(obfuscated_vectors, m=m, epsilon=epsilon,\n",
        "                             p_hat=None, pools=pools, emoji_pool=emoji_pool)\n",
        "\n",
        "    guessed_pool = max(confidences, key=confidences.get)\n",
        "\n",
        "    # Evaluate win\n",
        "    if guessed_pool == true_pool:\n",
        "        wins += 1\n",
        "        print(f\"[{user_id+1}] ✅ ADV WINS: guessed = {guessed_pool}, true = {true_pool}\")\n",
        "    else:\n",
        "        print(f\"[{user_id+1}] ❌ ADV LOSES: guessed = {guessed_pool}, true = {true_pool}\")\n",
        "\n",
        "# Final stats\n",
        "print(f\"\\n📊 ADV Win Rate: {wins}/{N_USERS} = {wins / N_USERS:.2%}\")\n"
      ],
      "metadata": {
        "colab": {
          "base_uri": "https://localhost:8080/",
          "height": 391
        },
        "id": "O27cyZMCKykH",
        "outputId": "78db2dd7-6e6a-4a9b-9d44-397c2171e139"
      },
      "execution_count": 16,
      "outputs": [
        {
          "output_type": "stream",
          "name": "stdout",
          "text": [
            "[1] ❌ ADV LOSES: guessed = B, true = C\n",
            "[2] ❌ ADV LOSES: guessed = A, true = B\n",
            "[3] ❌ ADV LOSES: guessed = B, true = A\n",
            "[4] ✅ ADV WINS: guessed = A, true = A\n"
          ]
        },
        {
          "output_type": "error",
          "ename": "KeyboardInterrupt",
          "evalue": "",
          "traceback": [
            "\u001b[0;31m---------------------------------------------------------------------------\u001b[0m",
            "\u001b[0;31mKeyboardInterrupt\u001b[0m                         Traceback (most recent call last)",
            "\u001b[0;32m<ipython-input-16-2251d8f41066>\u001b[0m in \u001b[0;36m<cell line: 0>\u001b[0;34m()\u001b[0m\n\u001b[1;32m     38\u001b[0m \u001b[0;34m\u001b[0m\u001b[0m\n\u001b[1;32m     39\u001b[0m     \u001b[0;31m# Infer\u001b[0m\u001b[0;34m\u001b[0m\u001b[0;34m\u001b[0m\u001b[0m\n\u001b[0;32m---> 40\u001b[0;31m     confidences = infer_pool(obfuscated_vectors, m=m, epsilon=epsilon,\n\u001b[0m\u001b[1;32m     41\u001b[0m                              p_hat=None, pools=pools, emoji_pool=emoji_pool)\n\u001b[1;32m     42\u001b[0m \u001b[0;34m\u001b[0m\u001b[0m\n",
            "\u001b[0;32m<ipython-input-11-77ac4d06d8fb>\u001b[0m in \u001b[0;36minfer_pool\u001b[0;34m(observations, m, epsilon, gamma_grid, delta_grid, p_hat, pools, emoji_pool)\u001b[0m\n\u001b[1;32m     26\u001b[0m                         \u001b[0mz_vec\u001b[0m \u001b[0;34m=\u001b[0m \u001b[0mone_hot_vector\u001b[0m\u001b[0;34m(\u001b[0m\u001b[0mz\u001b[0m\u001b[0;34m,\u001b[0m \u001b[0mm\u001b[0m\u001b[0;34m)\u001b[0m\u001b[0;34m\u001b[0m\u001b[0;34m\u001b[0m\u001b[0m\n\u001b[1;32m     27\u001b[0m                         \u001b[0mlikelihood\u001b[0m \u001b[0;34m=\u001b[0m \u001b[0mpr_observation_given_z\u001b[0m\u001b[0;34m(\u001b[0m\u001b[0mx_t\u001b[0m\u001b[0;34m,\u001b[0m \u001b[0mz_vec\u001b[0m\u001b[0;34m,\u001b[0m \u001b[0mepsilon\u001b[0m\u001b[0;34m)\u001b[0m\u001b[0;34m\u001b[0m\u001b[0;34m\u001b[0m\u001b[0m\n\u001b[0;32m---> 28\u001b[0;31m                         \u001b[0mphi\u001b[0m \u001b[0;34m=\u001b[0m \u001b[0mphi_bar_eq2\u001b[0m\u001b[0;34m(\u001b[0m\u001b[0mz\u001b[0m\u001b[0;34m,\u001b[0m \u001b[0mpool_id\u001b[0m\u001b[0;34m,\u001b[0m \u001b[0mgamma\u001b[0m\u001b[0;34m,\u001b[0m \u001b[0mdelta\u001b[0m\u001b[0;34m,\u001b[0m \u001b[0mp_hat\u001b[0m\u001b[0;34m,\u001b[0m \u001b[0mpools\u001b[0m\u001b[0;34m,\u001b[0m \u001b[0memoji_pool\u001b[0m\u001b[0;34m)\u001b[0m\u001b[0;34m\u001b[0m\u001b[0;34m\u001b[0m\u001b[0m\n\u001b[0m\u001b[1;32m     29\u001b[0m                         \u001b[0minner\u001b[0m \u001b[0;34m+=\u001b[0m \u001b[0mlikelihood\u001b[0m \u001b[0;34m*\u001b[0m \u001b[0mphi\u001b[0m\u001b[0;34m\u001b[0m\u001b[0;34m\u001b[0m\u001b[0m\n\u001b[1;32m     30\u001b[0m                     \u001b[0mtotal_likelihood\u001b[0m \u001b[0;34m*=\u001b[0m \u001b[0minner\u001b[0m\u001b[0;34m\u001b[0m\u001b[0;34m\u001b[0m\u001b[0m\n",
            "\u001b[0;32m<ipython-input-10-d773c9a16672>\u001b[0m in \u001b[0;36mphi_bar_eq2\u001b[0;34m(x, preferred_pool, gamma, delta, p_hat, pools, emoji_pool)\u001b[0m\n\u001b[1;32m      8\u001b[0m         \u001b[0;32mreturn\u001b[0m \u001b[0;34m(\u001b[0m\u001b[0mgamma\u001b[0m \u001b[0;34m*\u001b[0m \u001b[0;34m(\u001b[0m\u001b[0;36m1\u001b[0m \u001b[0;34m-\u001b[0m \u001b[0mdelta\u001b[0m\u001b[0;34m)\u001b[0m \u001b[0;34m/\u001b[0m \u001b[0;34m(\u001b[0m\u001b[0mk\u001b[0m \u001b[0;34m-\u001b[0m \u001b[0;36m1\u001b[0m\u001b[0;34m)\u001b[0m\u001b[0;34m)\u001b[0m \u001b[0;34m*\u001b[0m \u001b[0mp_hat\u001b[0m\u001b[0;34m[\u001b[0m\u001b[0mx\u001b[0m\u001b[0;34m]\u001b[0m \u001b[0;34m/\u001b[0m \u001b[0msum\u001b[0m\u001b[0;34m(\u001b[0m\u001b[0mp_hat\u001b[0m\u001b[0;34m[\u001b[0m\u001b[0mz\u001b[0m\u001b[0;34m]\u001b[0m \u001b[0;32mfor\u001b[0m \u001b[0mz\u001b[0m \u001b[0;32min\u001b[0m \u001b[0mpools\u001b[0m\u001b[0;34m[\u001b[0m\u001b[0mpool_x\u001b[0m\u001b[0;34m]\u001b[0m\u001b[0;34m)\u001b[0m\u001b[0;34m\u001b[0m\u001b[0;34m\u001b[0m\u001b[0m\n\u001b[1;32m      9\u001b[0m     \u001b[0;32melse\u001b[0m\u001b[0;34m:\u001b[0m\u001b[0;34m\u001b[0m\u001b[0;34m\u001b[0m\u001b[0m\n\u001b[0;32m---> 10\u001b[0;31m         \u001b[0;32mreturn\u001b[0m \u001b[0;34m(\u001b[0m\u001b[0;36m1\u001b[0m \u001b[0;34m-\u001b[0m \u001b[0mgamma\u001b[0m\u001b[0;34m)\u001b[0m \u001b[0;34m*\u001b[0m \u001b[0mp_hat\u001b[0m\u001b[0;34m[\u001b[0m\u001b[0mx\u001b[0m\u001b[0;34m]\u001b[0m \u001b[0;34m/\u001b[0m \u001b[0msum\u001b[0m\u001b[0;34m(\u001b[0m\u001b[0mp_hat\u001b[0m\u001b[0;34m[\u001b[0m\u001b[0mz\u001b[0m\u001b[0;34m]\u001b[0m \u001b[0;32mfor\u001b[0m \u001b[0mz\u001b[0m \u001b[0;32min\u001b[0m \u001b[0mpools\u001b[0m\u001b[0;34m[\u001b[0m\u001b[0;34m'N'\u001b[0m\u001b[0;34m]\u001b[0m\u001b[0;34m)\u001b[0m\u001b[0;34m\u001b[0m\u001b[0;34m\u001b[0m\u001b[0m\n\u001b[0m",
            "\u001b[0;32m<ipython-input-10-d773c9a16672>\u001b[0m in \u001b[0;36m<genexpr>\u001b[0;34m(.0)\u001b[0m\n\u001b[1;32m      8\u001b[0m         \u001b[0;32mreturn\u001b[0m \u001b[0;34m(\u001b[0m\u001b[0mgamma\u001b[0m \u001b[0;34m*\u001b[0m \u001b[0;34m(\u001b[0m\u001b[0;36m1\u001b[0m \u001b[0;34m-\u001b[0m \u001b[0mdelta\u001b[0m\u001b[0;34m)\u001b[0m \u001b[0;34m/\u001b[0m \u001b[0;34m(\u001b[0m\u001b[0mk\u001b[0m \u001b[0;34m-\u001b[0m \u001b[0;36m1\u001b[0m\u001b[0;34m)\u001b[0m\u001b[0;34m)\u001b[0m \u001b[0;34m*\u001b[0m \u001b[0mp_hat\u001b[0m\u001b[0;34m[\u001b[0m\u001b[0mx\u001b[0m\u001b[0;34m]\u001b[0m \u001b[0;34m/\u001b[0m \u001b[0msum\u001b[0m\u001b[0;34m(\u001b[0m\u001b[0mp_hat\u001b[0m\u001b[0;34m[\u001b[0m\u001b[0mz\u001b[0m\u001b[0;34m]\u001b[0m \u001b[0;32mfor\u001b[0m \u001b[0mz\u001b[0m \u001b[0;32min\u001b[0m \u001b[0mpools\u001b[0m\u001b[0;34m[\u001b[0m\u001b[0mpool_x\u001b[0m\u001b[0;34m]\u001b[0m\u001b[0;34m)\u001b[0m\u001b[0;34m\u001b[0m\u001b[0;34m\u001b[0m\u001b[0m\n\u001b[1;32m      9\u001b[0m     \u001b[0;32melse\u001b[0m\u001b[0;34m:\u001b[0m\u001b[0;34m\u001b[0m\u001b[0;34m\u001b[0m\u001b[0m\n\u001b[0;32m---> 10\u001b[0;31m         \u001b[0;32mreturn\u001b[0m \u001b[0;34m(\u001b[0m\u001b[0;36m1\u001b[0m \u001b[0;34m-\u001b[0m \u001b[0mgamma\u001b[0m\u001b[0;34m)\u001b[0m \u001b[0;34m*\u001b[0m \u001b[0mp_hat\u001b[0m\u001b[0;34m[\u001b[0m\u001b[0mx\u001b[0m\u001b[0;34m]\u001b[0m \u001b[0;34m/\u001b[0m \u001b[0msum\u001b[0m\u001b[0;34m(\u001b[0m\u001b[0mp_hat\u001b[0m\u001b[0;34m[\u001b[0m\u001b[0mz\u001b[0m\u001b[0;34m]\u001b[0m \u001b[0;32mfor\u001b[0m \u001b[0mz\u001b[0m \u001b[0;32min\u001b[0m \u001b[0mpools\u001b[0m\u001b[0;34m[\u001b[0m\u001b[0;34m'N'\u001b[0m\u001b[0;34m]\u001b[0m\u001b[0;34m)\u001b[0m\u001b[0;34m\u001b[0m\u001b[0;34m\u001b[0m\u001b[0m\n\u001b[0m",
            "\u001b[0;31mKeyboardInterrupt\u001b[0m: "
          ]
        }
      ]
    },
    {
      "cell_type": "code",
      "source": [],
      "metadata": {
        "id": "tB_JH_4Bhw93"
      },
      "execution_count": null,
      "outputs": []
    }
  ]
}